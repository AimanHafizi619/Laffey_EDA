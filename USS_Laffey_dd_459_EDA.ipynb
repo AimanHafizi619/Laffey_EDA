{
  "nbformat": 4,
  "nbformat_minor": 0,
  "metadata": {
    "colab": {
      "provenance": [],
      "authorship_tag": "ABX9TyOHOy5Hjr00hX2WpATuW+/h",
      "include_colab_link": true
    },
    "kernelspec": {
      "name": "python3",
      "display_name": "Python 3"
    },
    "language_info": {
      "name": "python"
    }
  },
  "cells": [
    {
      "cell_type": "markdown",
      "metadata": {
        "id": "view-in-github",
        "colab_type": "text"
      },
      "source": [
        "<a href=\"https://colab.research.google.com/github/AimanHafizi619/Laffey_EDA/blob/main/USS_Laffey_dd_459_EDA.ipynb\" target=\"_parent\"><img src=\"https://colab.research.google.com/assets/colab-badge.svg\" alt=\"Open In Colab\"/></a>"
      ]
    },
    {
      "cell_type": "code",
      "source": [
        "pip install requests beautifulsoup4 pandas numpy matplotlib seaborn"
      ],
      "metadata": {
        "colab": {
          "base_uri": "https://localhost:8080/"
        },
        "id": "VubINkD_AoRT",
        "outputId": "b262897d-e509-4587-a1c5-dda7d68ee073"
      },
      "execution_count": 138,
      "outputs": [
        {
          "output_type": "stream",
          "name": "stdout",
          "text": [
            "Looking in indexes: https://pypi.org/simple, https://us-python.pkg.dev/colab-wheels/public/simple/\n",
            "Requirement already satisfied: requests in /usr/local/lib/python3.9/dist-packages (2.27.1)\n",
            "Requirement already satisfied: beautifulsoup4 in /usr/local/lib/python3.9/dist-packages (4.11.2)\n",
            "Requirement already satisfied: pandas in /usr/local/lib/python3.9/dist-packages (1.4.4)\n",
            "Requirement already satisfied: numpy in /usr/local/lib/python3.9/dist-packages (1.22.4)\n",
            "Requirement already satisfied: matplotlib in /usr/local/lib/python3.9/dist-packages (3.7.1)\n",
            "Requirement already satisfied: seaborn in /usr/local/lib/python3.9/dist-packages (0.12.2)\n",
            "Requirement already satisfied: certifi>=2017.4.17 in /usr/local/lib/python3.9/dist-packages (from requests) (2022.12.7)\n",
            "Requirement already satisfied: idna<4,>=2.5 in /usr/local/lib/python3.9/dist-packages (from requests) (3.4)\n",
            "Requirement already satisfied: urllib3<1.27,>=1.21.1 in /usr/local/lib/python3.9/dist-packages (from requests) (1.26.15)\n",
            "Requirement already satisfied: charset-normalizer~=2.0.0 in /usr/local/lib/python3.9/dist-packages (from requests) (2.0.12)\n",
            "Requirement already satisfied: soupsieve>1.2 in /usr/local/lib/python3.9/dist-packages (from beautifulsoup4) (2.4)\n",
            "Requirement already satisfied: python-dateutil>=2.8.1 in /usr/local/lib/python3.9/dist-packages (from pandas) (2.8.2)\n",
            "Requirement already satisfied: pytz>=2020.1 in /usr/local/lib/python3.9/dist-packages (from pandas) (2022.7.1)\n",
            "Requirement already satisfied: packaging>=20.0 in /usr/local/lib/python3.9/dist-packages (from matplotlib) (23.0)\n",
            "Requirement already satisfied: importlib-resources>=3.2.0 in /usr/local/lib/python3.9/dist-packages (from matplotlib) (5.12.0)\n",
            "Requirement already satisfied: fonttools>=4.22.0 in /usr/local/lib/python3.9/dist-packages (from matplotlib) (4.39.3)\n",
            "Requirement already satisfied: kiwisolver>=1.0.1 in /usr/local/lib/python3.9/dist-packages (from matplotlib) (1.4.4)\n",
            "Requirement already satisfied: cycler>=0.10 in /usr/local/lib/python3.9/dist-packages (from matplotlib) (0.11.0)\n",
            "Requirement already satisfied: pyparsing>=2.3.1 in /usr/local/lib/python3.9/dist-packages (from matplotlib) (3.0.9)\n",
            "Requirement already satisfied: contourpy>=1.0.1 in /usr/local/lib/python3.9/dist-packages (from matplotlib) (1.0.7)\n",
            "Requirement already satisfied: pillow>=6.2.0 in /usr/local/lib/python3.9/dist-packages (from matplotlib) (8.4.0)\n",
            "Requirement already satisfied: zipp>=3.1.0 in /usr/local/lib/python3.9/dist-packages (from importlib-resources>=3.2.0->matplotlib) (3.15.0)\n",
            "Requirement already satisfied: six>=1.5 in /usr/local/lib/python3.9/dist-packages (from python-dateutil>=2.8.1->pandas) (1.16.0)\n"
          ]
        }
      ]
    },
    {
      "cell_type": "code",
      "source": [
        "import requests\n",
        "from bs4 import BeautifulSoup\n",
        "import pandas as pd\n",
        "import numpy as np\n",
        "import matplotlib.pyplot as plt\n",
        "import seaborn as sns"
      ],
      "metadata": {
        "id": "aNVRxG8uArFo"
      },
      "execution_count": 139,
      "outputs": []
    },
    {
      "cell_type": "code",
      "source": [
        "url = 'https://en.wikipedia.org/wiki/USS_Laffey_(DD-459)'"
      ],
      "metadata": {
        "id": "LATk7rZ-AtRr"
      },
      "execution_count": 140,
      "outputs": []
    },
    {
      "cell_type": "code",
      "source": [
        "response = requests.get(url)\n",
        "html_content = response.content"
      ],
      "metadata": {
        "id": "pg4TuqQVAu-Y"
      },
      "execution_count": 141,
      "outputs": []
    },
    {
      "cell_type": "code",
      "source": [
        "infobox = soup.find(class_='infobox')\n",
        "specifications = {}\n",
        "for row in infobox.find_all('tr'):\n",
        "    cells = row.find_all(['th', 'td'])\n",
        "    if len(cells) == 2:\n",
        "        key = cells[0].get_text().strip()\n",
        "        value = cells[1].get_text().strip()\n",
        "        specifications[key] = value"
      ],
      "metadata": {
        "id": "RSCMm6xQ1oWa"
      },
      "execution_count": 142,
      "outputs": []
    },
    {
      "cell_type": "code",
      "source": [
        "name_str = specifications.get('Name')\n",
        "if name_str:\n",
        "    print(f\"Name: {name_str}\")\n",
        "else:\n",
        "    print(\"Name not found.\")\n",
        "\n",
        "namesake_str = specifications.get('Namesake')\n",
        "if namesake_str:\n",
        "    print(f\"Namesake: {namesake_str}\")\n",
        "else:\n",
        "    print(\"Namesake not found.\")"
      ],
      "metadata": {
        "colab": {
          "base_uri": "https://localhost:8080/"
        },
        "id": "NAnZRGML1kEe",
        "outputId": "c97465ba-ff98-4b0a-ac9c-7a2beb2aba46"
      },
      "execution_count": 143,
      "outputs": [
        {
          "output_type": "stream",
          "name": "stdout",
          "text": [
            "Name: USS Laffey\n",
            "Namesake: Bartlett Laffey\n"
          ]
        }
      ]
    },
    {
      "cell_type": "code",
      "source": [
        "laid_down_str = specifications.get('Laid down')\n",
        "if laid_down_str:\n",
        "    print(f\"Laid down: {laid_down_str}\")\n",
        "\n",
        "launched_str = specifications.get('Launched')\n",
        "if launched_str:\n",
        "    print(f\"Launched: {launched_str}\")\n",
        "\n",
        "commissioned_str = specifications.get('Commissioned')\n",
        "if commissioned_str:\n",
        "    print(f\"Commissioned: {commissioned_str}\")"
      ],
      "metadata": {
        "colab": {
          "base_uri": "https://localhost:8080/"
        },
        "id": "E2JggRfSv7DA",
        "outputId": "3e837bf5-9582-4fa6-a4d8-a2748762cc6e"
      },
      "execution_count": 144,
      "outputs": [
        {
          "output_type": "stream",
          "name": "stdout",
          "text": [
            "Laid down: 13 January 1941\n",
            "Launched: 30 October 1941\n",
            "Commissioned: 31 March 1942\n"
          ]
        }
      ]
    },
    {
      "cell_type": "code",
      "source": [
        "armament_str = specifications['Armament']\n",
        "\n",
        "# split the string into separate armament entries\n",
        "armament_entries = armament_str.split('\\n')\n",
        "\n",
        "# remove any empty entries\n",
        "armament_entries = list(filter(None, armament_entries))\n",
        "\n",
        "# print out the armaments\n",
        "print('List of Guns Carried by Laffey:')\n",
        "for entry in armament_entries:\n",
        "    print(entry)"
      ],
      "metadata": {
        "colab": {
          "base_uri": "https://localhost:8080/"
        },
        "id": "LjlOJH29rB1n",
        "outputId": "b928294b-f3e5-4428-a21c-b75bbb47da2c"
      },
      "execution_count": 145,
      "outputs": [
        {
          "output_type": "stream",
          "name": "stdout",
          "text": [
            "List of Guns Carried by Laffey:\n",
            "4 × 5 in (130 mm)/38 cal guns\n",
            "1 × 1.1\"/75 caliber anti-aircraft cannon \n",
            "5 × 20 mm anti-aircraft cannons\n",
            "5 × 21 inch (533 mm) torpedo tubes\n",
            "5 × depth charge projectors\n",
            "2 × depth charge tracks\n"
          ]
        }
      ]
    },
    {
      "cell_type": "code",
      "source": [
        "soup = BeautifulSoup(html_content, 'html.parser')\n",
        "table = soup.find_all('table', class_='infobox')[0]\n",
        "rows = table.find_all('tr')\n",
        "\n",
        "data = {}\n",
        "for row in rows:\n",
        "    cells = row.find_all('td')\n",
        "    if len(cells) == 2:\n",
        "        key = cells[0].text.strip()\n",
        "        value = cells[1].text.strip()\n",
        "        data[key] = value\n",
        "\n",
        "specifications = pd.Series(data)"
      ],
      "metadata": {
        "id": "cc0niQJYAxC_"
      },
      "execution_count": 146,
      "outputs": []
    },
    {
      "cell_type": "code",
      "source": [
        "length_str = specifications['Length']\n",
        "\n",
        "if 'ft' in length_str:\n",
        "    feet, rest = map(str.strip, length_str.split('ft'))\n",
        "    if 'in' in rest:\n",
        "        inches_str = rest.split('in')[0].strip()\n",
        "        inches = int(inches_str) if inches_str.isdigit() else 0\n",
        "        \n",
        "    length_m = (int(feet) * 0.3048) + (inches * 0.0254)"
      ],
      "metadata": {
        "id": "aMIL3q9GAzq1"
      },
      "execution_count": 147,
      "outputs": []
    },
    {
      "cell_type": "code",
      "source": [
        "beam_str = specifications['Beam']\n",
        "\n",
        "if 'ft' in beam_str:\n",
        "    feet, rest = map(str.strip, beam_str.split('ft'))\n",
        "    if 'in' in rest:\n",
        "        inches_str = rest.split('in')[0].strip()\n",
        "        inches = int(inches_str) if inches_str.isdigit() else 0\n",
        "        \n",
        "    beam_m = (int(feet) * 0.3048) + (inches * 0.0254)"
      ],
      "metadata": {
        "id": "BaQfujghX8a5"
      },
      "execution_count": 148,
      "outputs": []
    },
    {
      "cell_type": "code",
      "source": [
        "draft_str = specifications['Draft']\n",
        "\n",
        "if 'ft' in draft_str:\n",
        "    feet, rest = map(str.strip, draft_str.split('ft'))\n",
        "    if 'in' in rest:\n",
        "        inches_str = rest.split('in')[0].strip()\n",
        "        inches = int(inches_str) if inches_str.isdigit() else 0\n",
        "\n",
        "    draft_m = (int(feet) * 0.3048) + (inches * 0.0254)"
      ],
      "metadata": {
        "id": "bJovKKvvX-dd"
      },
      "execution_count": 149,
      "outputs": []
    },
    {
      "cell_type": "code",
      "source": [
        "print(\"The length of USS Laffey is:\", round(length_m, 2), \"meters.\")\n",
        "print(\"The beam of USS Laffey is:\", round(beam_m, 2), \"meters.\")\n",
        "print(\"The draft of USS Laffey is:\", round(draft_m, 2), \"meters.\")"
      ],
      "metadata": {
        "colab": {
          "base_uri": "https://localhost:8080/"
        },
        "id": "2lDsU977YDjY",
        "outputId": "c8b4a327-9a95-4ebf-89a5-74e48d0de5a5"
      },
      "execution_count": 150,
      "outputs": [
        {
          "output_type": "stream",
          "name": "stdout",
          "text": [
            "The length of USS Laffey is: 106.02 meters.\n",
            "The beam of USS Laffey is: 11.0 meters.\n",
            "The draft of USS Laffey is: 3.61 meters.\n"
          ]
        }
      ]
    }
  ]
}