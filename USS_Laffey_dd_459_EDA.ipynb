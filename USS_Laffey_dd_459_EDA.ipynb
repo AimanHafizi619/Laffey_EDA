{
  "nbformat": 4,
  "nbformat_minor": 0,
  "metadata": {
    "colab": {
      "provenance": [],
      "authorship_tag": "ABX9TyOZia8FHM+NlaVTKA9IaECc",
      "include_colab_link": true
    },
    "kernelspec": {
      "name": "python3",
      "display_name": "Python 3"
    },
    "language_info": {
      "name": "python"
    }
  },
  "cells": [
    {
      "cell_type": "markdown",
      "metadata": {
        "id": "view-in-github",
        "colab_type": "text"
      },
      "source": [
        "<a href=\"https://colab.research.google.com/github/AimanHafizi619/Laffey_EDA/blob/main/USS_Laffey_dd_459_EDA.ipynb\" target=\"_parent\"><img src=\"https://colab.research.google.com/assets/colab-badge.svg\" alt=\"Open In Colab\"/></a>"
      ]
    },
    {
      "cell_type": "code",
      "source": [
        "pip install requests beautifulsoup4 pandas numpy matplotlib seaborn"
      ],
      "metadata": {
        "colab": {
          "base_uri": "https://localhost:8080/"
        },
        "id": "VubINkD_AoRT",
        "outputId": "98ab3059-a534-4e37-873c-27e0634c852c"
      },
      "execution_count": 18,
      "outputs": [
        {
          "output_type": "stream",
          "name": "stdout",
          "text": [
            "Looking in indexes: https://pypi.org/simple, https://us-python.pkg.dev/colab-wheels/public/simple/\n",
            "Requirement already satisfied: requests in /usr/local/lib/python3.9/dist-packages (2.27.1)\n",
            "Requirement already satisfied: beautifulsoup4 in /usr/local/lib/python3.9/dist-packages (4.11.2)\n",
            "Requirement already satisfied: pandas in /usr/local/lib/python3.9/dist-packages (1.4.4)\n",
            "Requirement already satisfied: numpy in /usr/local/lib/python3.9/dist-packages (1.22.4)\n",
            "Requirement already satisfied: matplotlib in /usr/local/lib/python3.9/dist-packages (3.7.1)\n",
            "Requirement already satisfied: seaborn in /usr/local/lib/python3.9/dist-packages (0.12.2)\n",
            "Requirement already satisfied: certifi>=2017.4.17 in /usr/local/lib/python3.9/dist-packages (from requests) (2022.12.7)\n",
            "Requirement already satisfied: charset-normalizer~=2.0.0 in /usr/local/lib/python3.9/dist-packages (from requests) (2.0.12)\n",
            "Requirement already satisfied: urllib3<1.27,>=1.21.1 in /usr/local/lib/python3.9/dist-packages (from requests) (1.26.15)\n",
            "Requirement already satisfied: idna<4,>=2.5 in /usr/local/lib/python3.9/dist-packages (from requests) (3.4)\n",
            "Requirement already satisfied: soupsieve>1.2 in /usr/local/lib/python3.9/dist-packages (from beautifulsoup4) (2.4)\n",
            "Requirement already satisfied: pytz>=2020.1 in /usr/local/lib/python3.9/dist-packages (from pandas) (2022.7.1)\n",
            "Requirement already satisfied: python-dateutil>=2.8.1 in /usr/local/lib/python3.9/dist-packages (from pandas) (2.8.2)\n",
            "Requirement already satisfied: pillow>=6.2.0 in /usr/local/lib/python3.9/dist-packages (from matplotlib) (8.4.0)\n",
            "Requirement already satisfied: contourpy>=1.0.1 in /usr/local/lib/python3.9/dist-packages (from matplotlib) (1.0.7)\n",
            "Requirement already satisfied: packaging>=20.0 in /usr/local/lib/python3.9/dist-packages (from matplotlib) (23.0)\n",
            "Requirement already satisfied: kiwisolver>=1.0.1 in /usr/local/lib/python3.9/dist-packages (from matplotlib) (1.4.4)\n",
            "Requirement already satisfied: importlib-resources>=3.2.0 in /usr/local/lib/python3.9/dist-packages (from matplotlib) (5.12.0)\n",
            "Requirement already satisfied: pyparsing>=2.3.1 in /usr/local/lib/python3.9/dist-packages (from matplotlib) (3.0.9)\n",
            "Requirement already satisfied: fonttools>=4.22.0 in /usr/local/lib/python3.9/dist-packages (from matplotlib) (4.39.3)\n",
            "Requirement already satisfied: cycler>=0.10 in /usr/local/lib/python3.9/dist-packages (from matplotlib) (0.11.0)\n",
            "Requirement already satisfied: zipp>=3.1.0 in /usr/local/lib/python3.9/dist-packages (from importlib-resources>=3.2.0->matplotlib) (3.15.0)\n",
            "Requirement already satisfied: six>=1.5 in /usr/local/lib/python3.9/dist-packages (from python-dateutil>=2.8.1->pandas) (1.16.0)\n"
          ]
        }
      ]
    },
    {
      "cell_type": "code",
      "source": [
        "import requests\n",
        "from bs4 import BeautifulSoup\n",
        "import pandas as pd\n",
        "import numpy as np\n",
        "import matplotlib.pyplot as plt\n",
        "import seaborn as sns"
      ],
      "metadata": {
        "id": "aNVRxG8uArFo"
      },
      "execution_count": 19,
      "outputs": []
    },
    {
      "cell_type": "code",
      "source": [
        "url = 'https://en.wikipedia.org/wiki/USS_Laffey_(DD-459)'"
      ],
      "metadata": {
        "id": "LATk7rZ-AtRr"
      },
      "execution_count": 20,
      "outputs": []
    },
    {
      "cell_type": "code",
      "source": [
        "response = requests.get(url)\n",
        "html_content = response.content"
      ],
      "metadata": {
        "id": "pg4TuqQVAu-Y"
      },
      "execution_count": 21,
      "outputs": []
    },
    {
      "cell_type": "code",
      "source": [
        "soup = BeautifulSoup(html_content, 'html.parser')\n",
        "table = soup.find_all('table', class_='infobox')[0]\n",
        "rows = table.find_all('tr')\n",
        "\n",
        "data = {}\n",
        "for row in rows:\n",
        "    cells = row.find_all('td')\n",
        "    if len(cells) == 2:\n",
        "        key = cells[0].text.strip()\n",
        "        value = cells[1].text.strip()\n",
        "        data[key] = value\n",
        "\n",
        "specifications = pd.Series(data)"
      ],
      "metadata": {
        "id": "cc0niQJYAxC_"
      },
      "execution_count": 22,
      "outputs": []
    },
    {
      "cell_type": "code",
      "source": [
        "length_str = specifications['Length']\n",
        "\n",
        "if 'ft' in length_str:\n",
        "    feet, rest = map(str.strip, length_str.split('ft'))\n",
        "    if 'in' in rest:\n",
        "        inches_str = rest.split('in')[0].strip()\n",
        "        inches = int(inches_str) if inches_str.isdigit() else 0\n",
        "    else:\n",
        "        inches = 0\n",
        "    length_m = (int(feet) * 0.3048) + (inches * 0.0254)\n",
        "else:\n",
        "    length_m = float(length_str.strip(' m'))"
      ],
      "metadata": {
        "id": "aMIL3q9GAzq1"
      },
      "execution_count": 23,
      "outputs": []
    },
    {
      "cell_type": "code",
      "source": [
        "beam_str = specifications['Beam']\n",
        "\n",
        "if 'ft' in beam_str:\n",
        "    feet, rest = map(str.strip, beam_str.split('ft'))\n",
        "    if 'in' in rest:\n",
        "        inches_str = rest.split('in')[0].strip()\n",
        "        inches = int(inches_str) if inches_str.isdigit() else 0\n",
        "    else:\n",
        "        inches = 0\n",
        "    beam_m = (int(feet) * 0.3048) + (inches * 0.0254)\n",
        "else:\n",
        "    beam_m = float(beam_str.strip(' m'))"
      ],
      "metadata": {
        "id": "BaQfujghX8a5"
      },
      "execution_count": 24,
      "outputs": []
    },
    {
      "cell_type": "code",
      "source": [
        "draft_str = specifications['Draft']\n",
        "\n",
        "if 'ft' in draft_str:\n",
        "    feet, rest = map(str.strip, draft_str.split('ft'))\n",
        "    if 'in' in rest:\n",
        "        inches_str = rest.split('in')[0].strip()\n",
        "        inches = int(inches_str) if inches_str.isdigit() else 0\n",
        "    else:\n",
        "        inches = 0\n",
        "    draft_m = (int(feet) * 0.3048) + (inches * 0.0254)\n",
        "else:\n",
        "    draft_m = float(draft_str.strip(' m'))"
      ],
      "metadata": {
        "id": "bJovKKvvX-dd"
      },
      "execution_count": 25,
      "outputs": []
    },
    {
      "cell_type": "code",
      "source": [
        "print(\"The length of USS Laffey is:\", round(length_m, 2), \"meters.\")\n",
        "print(\"The beam of USS Laffey is:\", round(beam_m, 2), \"meters.\")\n",
        "print(\"The draft of USS Laffey is:\", round(draft_m, 2), \"meters.\")"
      ],
      "metadata": {
        "colab": {
          "base_uri": "https://localhost:8080/"
        },
        "id": "2lDsU977YDjY",
        "outputId": "a9f44cb5-a454-4908-d09b-c981ce624f1a"
      },
      "execution_count": 26,
      "outputs": [
        {
          "output_type": "stream",
          "name": "stdout",
          "text": [
            "The length of USS Laffey is: 106.02 meters.\n",
            "The beam of USS Laffey is: 11.0 meters.\n",
            "The draft of USS Laffey is: 3.61 meters.\n"
          ]
        }
      ]
    },
    {
      "cell_type": "code",
      "source": [
        "# Find the section of the page with the Awards information\n",
        "awards_section = soup.find('span', {'id': 'Awards'})\n",
        "\n",
        "# Extract the text of the Awards section\n",
        "awards_section = soup.find(id='Awards')\n",
        "service_ribbons = awards_section.find_next('li').text.split(': ')[1].split(', ')\n",
        "\n",
        "# Print the awards text\n",
        "print('Service Ribbons of USS Laffey:')\n",
        "for ribbon in service_ribbons:\n",
        "    print('-', ribbon)"
      ],
      "metadata": {
        "colab": {
          "base_uri": "https://localhost:8080/",
          "height": 252
        },
        "id": "ieG2klvMamI_",
        "outputId": "56114f09-0759-4eeb-9f82-3a41d213b92d"
      },
      "execution_count": 31,
      "outputs": [
        {
          "output_type": "error",
          "ename": "IndexError",
          "evalue": "ignored",
          "traceback": [
            "\u001b[0;31m---------------------------------------------------------------------------\u001b[0m",
            "\u001b[0;31mIndexError\u001b[0m                                Traceback (most recent call last)",
            "\u001b[0;32m<ipython-input-31-38b7bff131b4>\u001b[0m in \u001b[0;36m<cell line: 6>\u001b[0;34m()\u001b[0m\n\u001b[1;32m      4\u001b[0m \u001b[0;31m# Extract the text of the Awards section\u001b[0m\u001b[0;34m\u001b[0m\u001b[0;34m\u001b[0m\u001b[0m\n\u001b[1;32m      5\u001b[0m \u001b[0mawards_section\u001b[0m \u001b[0;34m=\u001b[0m \u001b[0msoup\u001b[0m\u001b[0;34m.\u001b[0m\u001b[0mfind\u001b[0m\u001b[0;34m(\u001b[0m\u001b[0mid\u001b[0m\u001b[0;34m=\u001b[0m\u001b[0;34m'Awards'\u001b[0m\u001b[0;34m)\u001b[0m\u001b[0;34m\u001b[0m\u001b[0;34m\u001b[0m\u001b[0m\n\u001b[0;32m----> 6\u001b[0;31m \u001b[0mservice_ribbons\u001b[0m \u001b[0;34m=\u001b[0m \u001b[0mawards_section\u001b[0m\u001b[0;34m.\u001b[0m\u001b[0mfind_next\u001b[0m\u001b[0;34m(\u001b[0m\u001b[0;34m'li'\u001b[0m\u001b[0;34m)\u001b[0m\u001b[0;34m.\u001b[0m\u001b[0mtext\u001b[0m\u001b[0;34m.\u001b[0m\u001b[0msplit\u001b[0m\u001b[0;34m(\u001b[0m\u001b[0;34m': '\u001b[0m\u001b[0;34m)\u001b[0m\u001b[0;34m[\u001b[0m\u001b[0;36m1\u001b[0m\u001b[0;34m]\u001b[0m\u001b[0;34m.\u001b[0m\u001b[0msplit\u001b[0m\u001b[0;34m(\u001b[0m\u001b[0;34m', '\u001b[0m\u001b[0;34m)\u001b[0m\u001b[0;34m\u001b[0m\u001b[0;34m\u001b[0m\u001b[0m\n\u001b[0m\u001b[1;32m      7\u001b[0m \u001b[0;34m\u001b[0m\u001b[0m\n\u001b[1;32m      8\u001b[0m \u001b[0;31m# Print the awards text\u001b[0m\u001b[0;34m\u001b[0m\u001b[0;34m\u001b[0m\u001b[0m\n",
            "\u001b[0;31mIndexError\u001b[0m: list index out of range"
          ]
        }
      ]
    }
  ]
}